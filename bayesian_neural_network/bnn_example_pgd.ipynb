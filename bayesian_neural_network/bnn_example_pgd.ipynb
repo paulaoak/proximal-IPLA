{
  "cells": [
    {
      "cell_type": "markdown",
      "metadata": {
        "colab_type": "text",
        "id": "view-in-github"
      },
      "source": [
        "<a href=\"https://colab.research.google.com/github/juankuntz/ParEM/blob/main/jax/bayesian_neural_network.ipynb\" target=\"_parent\"><img src=\"https://colab.research.google.com/assets/colab-badge.svg\" alt=\"Open In Colab\"/></a>"
      ]
    },
    {
      "cell_type": "markdown",
      "metadata": {
        "id": "B5E8v2cZ6Zkf"
      },
      "source": [
        "**Description:** This notebook demonstrates the application of PGD to the Bayesian neural network considered in Section 3.2 of [Particle algorithms for maximum likelihood training of latent\n",
        "variable models](https://juankuntz.github.io/publication/parem/). "
      ]
    },
    {
      "cell_type": "markdown",
      "metadata": {
        "id": "XotQU1Ootpi6"
      },
      "source": [
        "# Figure 4"
      ]
    },
    {
      "cell_type": "markdown",
      "metadata": {
        "id": "ErKddtPzM3_H"
      },
      "source": [
        "First, we load the modules we need:"
      ]
    },
    {
      "cell_type": "code",
      "execution_count": 116,
      "metadata": {
        "cellView": "form",
        "id": "QRkQ4RDsIAGf"
      },
      "outputs": [],
      "source": [
        "#@title Load modules.\n",
        "\n",
        "# Numpy and JAX for computations.\n",
        "import numpy as np\n",
        "import jax\n",
        "import jax.numpy as jnp\n",
        "\n",
        "# Pyplot for plots.\n",
        "import matplotlib.pyplot as plt "
      ]
    },
    {
      "cell_type": "markdown",
      "metadata": {
        "id": "R6VBGWiUNBLA"
      },
      "source": [
        "Next, we load and curate the dataset:"
      ]
    },
    {
      "cell_type": "code",
      "execution_count": 2,
      "metadata": {
        "cellView": "form",
        "colab": {
          "base_uri": "https://localhost:8080/"
        },
        "id": "mENE7XXBNLf0",
        "outputId": "7fdc1f91-db87-4169-f19f-0ca00854e4eb"
      },
      "outputs": [
        {
          "name": "stderr",
          "output_type": "stream",
          "text": [
            "2024-03-20 14:45:54.782805: E external/local_xla/xla/stream_executor/cuda/cuda_dnn.cc:9261] Unable to register cuDNN factory: Attempting to register factory for plugin cuDNN when one has already been registered\n",
            "2024-03-20 14:45:54.782832: E external/local_xla/xla/stream_executor/cuda/cuda_fft.cc:607] Unable to register cuFFT factory: Attempting to register factory for plugin cuFFT when one has already been registered\n",
            "2024-03-20 14:45:54.783507: E external/local_xla/xla/stream_executor/cuda/cuda_blas.cc:1515] Unable to register cuBLAS factory: Attempting to register factory for plugin cuBLAS when one has already been registered\n",
            "2024-03-20 14:45:55.311120: W tensorflow/compiler/tf2tensorrt/utils/py_utils.cc:38] TF-TRT Warning: Could not find TensorRT\n",
            "/usr/lib/python3/dist-packages/requests/__init__.py:87: RequestsDependencyWarning: urllib3 (2.1.0) or chardet (4.0.0) doesn't match a supported version!\n",
            "  warnings.warn(\"urllib3 ({}) or chardet ({}) doesn't match a supported \"\n"
          ]
        }
      ],
      "source": [
        "#@title Load, subsample, and normalize MNIST dataset.\n",
        "\n",
        "# Load dataset:\n",
        "from keras.datasets import mnist\n",
        "(images, labels), _ = mnist.load_data()\n",
        "images = np.array(images).astype(float)\n",
        "labels = np.array(labels).astype(int)\n",
        "\n",
        "# Keep only datapoints with labels 4 and 9:\n",
        "indices = (labels == 4) | (labels == 9)\n",
        "labels = labels[indices]\n",
        "images = images[indices, :, :]\n",
        "\n",
        "# Relabel as 4 as 0 and 9 as 1:\n",
        "for n in range(labels.size):\n",
        "    if labels[n] == 4:\n",
        "        labels[n] = 0\n",
        "    else:\n",
        "        labels[n] = 1\n",
        "\n",
        "# Sub-sample 1000 images:\n",
        "from sklearn.model_selection import train_test_split\n",
        "images, _, labels, _ = train_test_split(images, labels, train_size=1000,\n",
        "                                        random_state=0)\n",
        "\n",
        "# Normalize non-zero entries (pixels across whole dataset) so that they have mean zero \n",
        "# and unit standard across the dataset:\n",
        "i = images.std(0) != 0\n",
        "images[:, i] = (images[:, i] - images[:, i].mean(0))/images[:, i].std(0)"
      ]
    },
    {
      "cell_type": "markdown",
      "metadata": {
        "id": "9Rf35vq3IC7T"
      },
      "source": [
        "We then implement the algorithms. They take in the following inputs:\n",
        "\n",
        "*   itrain : training set labels,\n",
        "*   itrain : training set images,\n",
        "*   itest : test set labels,\n",
        "*   itest : test set images,\n",
        "*   h : step-size,\n",
        "*   K : number of steps,\n",
        "*   N : number of particles,\n",
        "*   a : 1-dimensional vector with initial alpha guess,\n",
        "*   b : 1-dimensional vector with initial beta guess,\n",
        "*   w : Dw x N matrix storing the input layer weights of the initial particle cloud,\n",
        "*   v : Dv x N matrix storing the output layer weights of the initial particle cloud.\n",
        "\n",
        "They return the following outputs:\n",
        "\n",
        "*   a : K-dimensional vector of alpha estimates,\n",
        "*   b : K-dimensional vector of beta estimates,\n",
        "*   w : Dw x N matrix storing the input layer weights of the final particle cloud,\n",
        "*   v : Dv x N matrix storing the output layer weights of the final particle cloud,\n",
        "*   lppd : log pointwise predictive density (LPPD) as a function of k,\n",
        "*   error : test error as a function of k."
      ]
    },
    {
      "cell_type": "code",
      "execution_count": 3,
      "metadata": {
        "cellView": "form",
        "id": "LtqjvuN98ZmU"
      },
      "outputs": [],
      "source": [
        "#@title Implement algorithms.\n",
        "\n",
        "# Algorithms.\n",
        "\n",
        "def pgd(ltrain, itrain, ltest, itest, h, K, a, b, w, v):\n",
        "    # Extract dimensions of latent variables:\n",
        "    Dw = w[:, :, 0].size  # Dimension of w.\n",
        "    Dv = v[:, :, 0].size  # Dimension of v.\n",
        "\n",
        "    # Initialize arrays storing performance metrics as a function of k:\n",
        "    lppd = np.zeros(K)  # Log pointwise predictive density (LPPD).\n",
        "    error = np.zeros(K)  # Test error.\n",
        "\n",
        "    for k in range(K):\n",
        "        # Evaluate metrics for current particle cloud:\n",
        "        lppd[k] = log_pointwise_predrictive_density(w, v, itest, ltest)\n",
        "        error[k] = test_error(w, v, itest, ltest)\n",
        "\n",
        "        # Temporarily store current particle cloud:\n",
        "        wk = w  # Input layer weights.\n",
        "        vk = v  # Output layer weights.\n",
        "\n",
        "        # Update parameter estimates (note that we are using the heuristic \n",
        "        # discussed in Section 2 of the paper; i.e., dividing the \n",
        "        # alpha-gradient by Dw and the beta-gradient by Dv):\n",
        "        a = np.append(a, a[k] + h*ave_grad_param(wk, a[k])/Dw)  # Alpha.\n",
        "        b = np.append(b, b[k] + h*ave_grad_param(vk, b[k])/Dv)  # Beta.\n",
        "\n",
        "        # Update particle cloud:\n",
        "        w = (w + h*wgrad(wk, vk, a[k], b[k], itrain, ltrain)\n",
        "               + jnp.sqrt(2*h) * np.random.normal(0, 1, w.shape)) \n",
        "        v = (v + h*vgrad(wk, vk, a[k], b[k], itrain, ltrain)\n",
        "               + jnp.sqrt(2*h) * np.random.normal(0, 1, v.shape))\n",
        "\n",
        "    return a, b, w, v, lppd, error\n",
        "\n",
        "\n",
        "# Auxiliary functions.\n",
        "\n",
        "# Functions for the log density.\n",
        "\n",
        "def _log_nn(w, v, image):\n",
        "    # Log of the network's output when evaluated at image with weights w, v.\n",
        "    arg = jnp.dot(v, jnp.tanh(jnp.dot(w, image.reshape((28**2)))))\n",
        "    return jax.nn.log_softmax(arg)\n",
        "\n",
        "\n",
        "def _log_nn_vec(w, v, images):\n",
        "    # _log_nn vectorized over particles.\n",
        "    return jax.vmap(_log_nn, in_axes=(None, None, 0))(w, v, images)\n",
        "\n",
        "\n",
        "def _log_prior(x, lsig):\n",
        "    # Log of a Gaussian prior, with mean 0 and variance e^lsig, evaluated at x.\n",
        "    v = x.reshape((x.size))\n",
        "    sig = jnp.exp(lsig)\n",
        "    return -jnp.dot(v, v)/(2*sig**2) - x.size * (jnp.log(2*jnp.pi)/2 + lsig)\n",
        "\n",
        "\n",
        "def _log_likelihood(w, v, images, labels):\n",
        "    # Log-likelihood for set of images and labels, vectorized over particles.\n",
        "    return (_log_nn_vec(w, v, images)[jnp.arange(labels.size), labels]).sum()\n",
        "\n",
        "\n",
        "def _log_density(w, v, a, b, images, labels):\n",
        "    # Log of model density, vectorized over particles.\n",
        "    out = _log_prior(w, a) + _log_prior(v, b)\n",
        "    return out + _log_likelihood(w, v, images, labels)\n",
        "\n",
        "\n",
        "# Functions for the gradients of the log-density.'\n",
        "\n",
        "def _grad_param(x, lsig):\n",
        "    # Parameter gradient of one of the two log-priors.\n",
        "    v = x.reshape((x.size))\n",
        "    sig = jnp.exp(lsig)\n",
        "    return jnp.dot(v, v)/(sig**2) - x.size\n",
        "\n",
        "\n",
        "@jax.jit\n",
        "def ave_grad_param(w, lsig):\n",
        "    \"\"\"Parameter gradient averaged over particle cloud.\"\"\"\n",
        "    grad = jax.vmap(_grad_param, in_axes=(2, None))(w, lsig)\n",
        "    return grad.mean()\n",
        "\n",
        "\n",
        "@jax.jit\n",
        "def wgrad(w, v, a, b, images, labels):\n",
        "    \"\"\"w-gradient vectorized over particle cloud.\"\"\"\n",
        "    grad = jax.grad(_log_density, argnums=0)\n",
        "    gradv = jax.vmap(grad, in_axes=(2, 2, None, None, None, None), out_axes=2)\n",
        "    return gradv(w, v, a, b, images, labels)\n",
        "\n",
        "\n",
        "@jax.jit\n",
        "def vgrad(w, v, a, b, images, labels):\n",
        "    \"\"\"v-gradients vectorized over particle cloud.\"\"\"\n",
        "    grad = jax.grad(_log_density, argnums=1)\n",
        "    gradv = jax.vmap(grad, in_axes=(2, 2, None, None, None, None), out_axes=2)\n",
        "    return gradv(w, v, a, b, images, labels)\n",
        "\n",
        "\n",
        "# Functions for the negative Hessian of the log prior used in the PQN update.\n",
        "\n",
        "def _neg_hess_param(x, lsig):\n",
        "    # Negative parameter Hessian of one of the two log-priors.'\n",
        "    v = x.reshape((x.size))\n",
        "    sig = jnp.exp(lsig)\n",
        "    return 2*jnp.dot(v, v)/(sig**2)\n",
        "\n",
        "\n",
        "@jax.jit\n",
        "def ave_neg_hess_param(w, lsig):\n",
        "    \"\"\"Negative parameter Hessian averaged over particles.\"\"\"\n",
        "    hess = jax.vmap(_neg_hess_param, in_axes=(2, None))(w, lsig)\n",
        "    return hess.mean()\n",
        "\n",
        "\n",
        "# Functions for the optimal parameters used in the PMGD update.\n",
        "\n",
        "def _normsq(x):\n",
        "    # Squared Frobenius norm of x.\n",
        "    v = x.reshape((x.size))\n",
        "    return jnp.dot(v, v)\n",
        "\n",
        "\n",
        "@jax.jit\n",
        "def optimal_param(w):\n",
        "    \"\"\"Optimal parameter for weight cloud w.\"\"\"\n",
        "    mom2 = (jax.vmap(_normsq, in_axes=(2))(w)).mean()  # Second moment\n",
        "    return jnp.log(mom2/(w[:, :, 0].size))/2\n",
        "\n",
        "\n",
        "# Functions for the performance metrics.\n",
        "\n",
        "def _nn(w, v, image):\n",
        "    # Network's output when evaluated at image with weights w, v.\n",
        "    arg = jnp.dot(v, jnp.tanh(jnp.dot(w, image.reshape((28**2)))))\n",
        "    return jax.nn.softmax(arg)\n",
        "\n",
        "\n",
        "def _nn_vec(w, v, images):\n",
        "    # _nn vectorized over images.\n",
        "    return jax.vmap(_nn, in_axes=(None, None, 0))(w, v, images)\n",
        "\n",
        "\n",
        "def _nn_vec_vec(w, v, images):\n",
        "    # _nn_vec vectorized over particles.\n",
        "    return jax.vmap(_nn_vec, in_axes=(2, 2, None), out_axes=2)(w, v, images)\n",
        "\n",
        "\n",
        "@jax.jit\n",
        "def log_pointwise_predrictive_density(w, v, images, labels):\n",
        "    \"\"\"Returns LPPD for set of (test) images and labels.\"\"\"\n",
        "    s = _nn_vec_vec(w, v, images).mean(2)\n",
        "    return jnp.log(s[jnp.arange(labels.size), labels]).mean()\n",
        "\n",
        "\n",
        "def _predict(w, v, images):\n",
        "    # Returns label maximizing the approximate posterior predictive \n",
        "    # distribution defined by the cloud (w,v), vectorized over images.\n",
        "    s = _nn_vec_vec(w, v, images).mean(2)\n",
        "    return jnp.argmax(s, axis=1)\n",
        "\n",
        "\n",
        "@jax.jit\n",
        "def test_error(w, v, images, labels):\n",
        "    \"\"\"Returns fraction of misclassified images in test set.\"\"\"\n",
        "    return jnp.abs(labels - _predict(w, v, images)).mean()"
      ]
    },
    {
      "cell_type": "markdown",
      "metadata": {
        "id": "kKT-6l_6urur"
      },
      "source": [
        "We can now run the algorithms using an 80/20 training/test split of the data:"
      ]
    },
    {
      "cell_type": "code",
      "execution_count": 4,
      "metadata": {},
      "outputs": [],
      "source": [
        "# Split data into 80/20 training and testing sets:\n",
        "itrain, itest, ltrain, ltest = train_test_split(images, labels, test_size=0.2,\n",
        "                                                random_state=0)\n",
        "\n",
        "# Set approximation parameters:\n",
        "h = 1e-1 # Step-size. \n",
        "K = 500  # Number of steps.\n",
        "N = 100  # Number of particles.\n",
        "\n",
        "# Initialize parameter estimates:\n",
        "a0 = np.array([0])  # Alpha.\n",
        "b0 = np.array([0])  # Beta.\n",
        "\n",
        "# Initialize particle cloud by sampling prior:'\n",
        "w0 = np.exp(a0)*np.random.normal(0, 1, (40, 28**2, N))  # Input layer weights.\n",
        "v0 = np.exp(b0)*np.random.normal(0, 1, (2, 40, N))  # Output layer weights.\n",
        "\n",
        "# Run algorithms:\n",
        "a_pgd, b_pgd, w_pgd, v_pgd, lppd_pgd, error_pgd = pgd(ltrain, itrain, ltest, \n",
        "                                                      itest, h, K, a0, b0, w0, \n",
        "                                                      v0)"
      ]
    },
    {
      "cell_type": "markdown",
      "metadata": {},
      "source": [
        "#### Analyse sparsity of weights"
      ]
    },
    {
      "cell_type": "code",
      "execution_count": 5,
      "metadata": {},
      "outputs": [
        {
          "name": "stdout",
          "output_type": "stream",
          "text": [
            "0.08176020408163265 Percentage of w<0.1\n",
            "0.0625 Percentage of v<0.1\n"
          ]
        }
      ],
      "source": [
        "#Analysis of weights\n",
        "# Percentage of weights with low values\n",
        "print(np.sum(np.abs(np.mean(w_pgd, axis=2))<0.1)/(w_pgd[:, :, -1].size), \"Percentage of w<0.1\")\n",
        "print(np.sum(np.abs(np.mean(v_pgd, axis=2))<0.1)/(v_pgd[:, :, -1].size), \"Percentage of v<0.1\")"
      ]
    },
    {
      "cell_type": "code",
      "execution_count": 9,
      "metadata": {},
      "outputs": [
        {
          "name": "stdout",
          "output_type": "stream",
          "text": [
            "Expanded vector:\n",
            "(40, 784, 1)\n"
          ]
        }
      ],
      "source": [
        "# Add a new dimension to the vector\n",
        "a_pgd_expanded = np.expand_dims(np.mean(w_pgd, axis=2), axis=2)\n",
        "\n",
        "print(\"Expanded vector:\")\n",
        "print(a_pgd_expanded.shape)"
      ]
    },
    {
      "cell_type": "code",
      "execution_count": 110,
      "metadata": {},
      "outputs": [],
      "source": [
        "lppd_last = log_pointwise_predrictive_density(w_pgd, v_pgd, itest, ltest)\n",
        "error_last = test_error(w_pgd, v_pgd, itest, ltest)\n",
        "\n",
        "lppd_mean = log_pointwise_predrictive_density(np.expand_dims(np.mean(w_pgd, axis=2), axis=2), \n",
        "                                                np.expand_dims(np.mean(v_pgd, axis=2), axis=2), itest, ltest)\n",
        "error_mean = test_error(np.expand_dims(np.mean(w_pgd, axis=2), axis=2), \n",
        "                          np.expand_dims(np.mean(v_pgd, axis=2), axis=2), itest, ltest)\n",
        "\n",
        "# Set to zero for compression\n",
        "th = 0.5\n",
        "mean_w = np.mean(w_pgd, axis=2)\n",
        "ww = np.expand_dims(np.where(np.abs(mean_w)>th+0.55, mean_w, 0), axis=2)\n",
        "\n",
        "mean_v = np.mean(v_pgd, axis=2)\n",
        "vv = np.expand_dims(np.where(np.abs(mean_v)>th, mean_v, 0), axis=2)\n",
        "\n",
        "lppd_shrink = log_pointwise_predrictive_density(ww, vv, itest, ltest)\n",
        "error_shrink = test_error(ww, vv, itest, ltest)\n",
        "\n",
        "ww_c= np.expand_dims(np.where(np.abs(mean_w)>0.2, mean_w, 0), axis=2)\n",
        "vv_c = np.expand_dims(np.where(np.abs(mean_v)>0.2, mean_v, 0), axis=2)\n",
        "\n",
        "lppd_shrink_c = log_pointwise_predrictive_density(ww_c, vv_c, itest, ltest)\n",
        "error_shrink_c = test_error(ww_c, vv_c, itest, ltest)\n",
        "\n",
        "threshold = 7.2\n",
        "lppd_shrink_2 = log_pointwise_predrictive_density(np.where(np.abs(w_pgd)>threshold, w_pgd, 0), \n",
        "                                                  np.where(np.abs(v_pgd)>threshold-3, v_pgd, 0), itest, ltest)\n",
        "\n",
        "error_shrink_2 = test_error(np.where(np.abs(w_pgd)>threshold, w_pgd, 0), \n",
        "                            np.where(np.abs(v_pgd)>threshold-3, v_pgd, 0), itest, ltest)\n",
        "\n",
        "threshold = 1\n",
        "lppd_shrink_3 = log_pointwise_predrictive_density(np.where(np.abs(w_pgd)>threshold, w_pgd, 0), \n",
        "                                                  np.where(np.abs(v_pgd)>threshold, v_pgd, 0), itest, ltest)\n",
        "\n",
        "error_shrink_3 = test_error(np.where(np.abs(w_pgd)>threshold, w_pgd, 0), \n",
        "                            np.where(np.abs(v_pgd)>threshold, v_pgd, 0), itest, ltest)"
      ]
    },
    {
      "cell_type": "code",
      "execution_count": 113,
      "metadata": {},
      "outputs": [
        {
          "name": "stdout",
          "output_type": "stream",
          "text": [
            "0.7116071428571429 Percentage of w<th\n",
            "0.4 Percentage of v<th\n"
          ]
        }
      ],
      "source": [
        "#Analysis of weights\n",
        "# Percentage of weights with low values\n",
        "print(np.sum(np.abs(np.mean(w_pgd, axis=2))<th + 0.55)/(w_pgd[:, :, -1].size), \"Percentage of w<th\")\n",
        "print(np.sum(np.abs(np.mean(v_pgd, axis=2))<th)/(v_pgd[:, :, -1].size), \"Percentage of v<th\")"
      ]
    },
    {
      "cell_type": "code",
      "execution_count": 114,
      "metadata": {},
      "outputs": [
        {
          "name": "stdout",
          "output_type": "stream",
          "text": [
            "0.16285076530612244 Percentage of w<0.2\n",
            "0.15 Percentage of v<0.2\n"
          ]
        }
      ],
      "source": [
        "#Analysis of weights\n",
        "# Percentage of weights with low values\n",
        "print(np.sum(np.abs(np.mean(w_pgd, axis=2))<0.2)/(w_pgd[:, :, -1].size), \"Percentage of w<0.2\")\n",
        "print(np.sum(np.abs(np.mean(v_pgd, axis=2))<0.2)/(v_pgd[:, :, -1].size), \"Percentage of v<0.2\")"
      ]
    },
    {
      "cell_type": "code",
      "execution_count": 115,
      "metadata": {},
      "outputs": [
        {
          "name": "stdout",
          "output_type": "stream",
          "text": [
            "-0.09555791\n",
            "0.015\n",
            "-0.7358125 LPPD shrinkage\n",
            "0.145 Error shrinkage\n",
            "-0.10143835 LPPD shrinkage not averaged\n",
            "0.015 Error shrinkage not averaged\n",
            "-0.0949918 LPPD shrinkage not averaged\n",
            "0.015 Error shrinkage not averaged\n",
            "-0.7761315 LPPD shrinkage compressed\n",
            "0.16 Error shrinkage compressed\n"
          ]
        }
      ],
      "source": [
        "print(lppd_last)\n",
        "print(error_last)\n",
        "print(lppd_shrink, \"LPPD shrinkage\")\n",
        "print(error_shrink, \"Error shrinkage\")\n",
        "\n",
        "print(lppd_shrink_2, \"LPPD shrinkage not averaged\")\n",
        "print(error_shrink_2, \"Error shrinkage not averaged\")\n",
        "\n",
        "print(lppd_shrink_3, \"LPPD shrinkage not averaged\")\n",
        "print(error_shrink_3, \"Error shrinkage not averaged\")\n",
        "\n",
        "print(lppd_shrink_c, \"LPPD shrinkage compressed\")\n",
        "print(error_shrink_c, \"Error shrinkage compressed\")"
      ]
    },
    {
      "cell_type": "code",
      "execution_count": 118,
      "metadata": {},
      "outputs": [
        {
          "data": {
            "image/png": "[encoded data removed]",
            "text/plain": [
              "<Figure size 640x480 with 1 Axes>"
            ]
          },
          "metadata": {},
          "output_type": "display_data"
        }
      ],
      "source": [
        "from scipy.stats import gaussian_kde\n",
        "\n",
        "fig = plt.figure()\n",
        "\n",
        "#data = np.array(np.mean(w_pgd, axis=2).flatten().tolist())\n",
        "data = np.array(w_pgd[:, :, -3].ravel().tolist())\n",
        "#data = w_pgd[:, :, -10].flatten()\n",
        "\n",
        "# Prior distribution samples\n",
        "data2 = np.random.normal(0, 1, 1000)\n",
        "\n",
        "# Step 2: Plot a Histogram\n",
        "plt.hist(data, bins=30, density=True, alpha=0.5, color='b', label='Histogram')\n",
        "\n",
        "# Step 3: Perform Density Estimation\n",
        "kde = gaussian_kde(data)\n",
        "x_vals = np.linspace(min(data), max(data), 1000)\n",
        "density_estimation = kde.evaluate(x_vals)\n",
        "\n",
        "kde_2 = gaussian_kde(data2)\n",
        "x_vals_2 = np.linspace(min(data), max(data), 1000)\n",
        "density_estimation_2 = kde_2.evaluate(x_vals_2)\n",
        "\n",
        "# Step 4: Plot the Density Estimation\n",
        "plt.plot(x_vals, density_estimation, 'r-', linewidth=2, label='Density Estimation')\n",
        "\n",
        "# Adding labels and legend\n",
        "plt.xlabel('Value')\n",
        "plt.ylabel('Density')\n",
        "#plt.title('Histogram and Density Estimation')\n",
        "plt.legend()\n",
        "\n",
        "# Show the plots\n",
        "plt.tight_layout()\n",
        "plt.show()\n",
        "\n",
        "fig.savefig(\"histogram_weights_normal.pdf\", bbox_inches='tight')"
      ]
    },
    {
      "cell_type": "markdown",
      "metadata": {},
      "source": [
        "#### Test error and lppd vs pruning threshold"
      ]
    },
    {
      "cell_type": "code",
      "execution_count": 125,
      "metadata": {},
      "outputs": [],
      "source": [
        "lppd_last = log_pointwise_predrictive_density(w_pgd, v_pgd, itest, ltest)\n",
        "error_last = test_error(w_pgd, v_pgd, itest, ltest)\n",
        "\n",
        "lppd_mean = log_pointwise_predrictive_density(np.expand_dims(np.mean(w_pgd, axis=2), axis=2), \n",
        "                                                np.expand_dims(np.mean(v_pgd, axis=2), axis=2), itest, ltest)\n",
        "error_mean = test_error(np.expand_dims(np.mean(w_pgd, axis=2), axis=2), \n",
        "                          np.expand_dims(np.mean(v_pgd, axis=2), axis=2), itest, ltest)\n",
        "\n",
        "# Set to zero for compression\n",
        "th_list = np.linspace(0, 3, 300)\n",
        "mean_w = np.mean(w_pgd, axis=2)\n",
        "mean_v = np.mean(v_pgd, axis=2)\n",
        "lppd_list = []\n",
        "error_list = []\n",
        "for th in th_list:  \n",
        "    ww = np.expand_dims(np.where(np.abs(mean_w)>th, mean_w, 0), axis=2)\n",
        "\n",
        "    vv = np.expand_dims(np.where(np.abs(mean_v)>th, mean_v, 0), axis=2)\n",
        "\n",
        "    lppd_shrink = log_pointwise_predrictive_density(ww, vv, itest, ltest)\n",
        "    lppd_list.append(lppd_shrink)\n",
        "\n",
        "    error_shrink = test_error(ww, vv, itest, ltest)\n",
        "    error_list.append(error_shrink)"
      ]
    },
    {
      "cell_type": "code",
      "execution_count": 127,
      "metadata": {},
      "outputs": [
        {
          "data": {
            "image/png": "[encoded data removed]",
            "text/plain": [
              "<Figure size 640x480 with 1 Axes>"
            ]
          },
          "metadata": {},
          "output_type": "display_data"
        }
      ],
      "source": [
        "fig = plt.figure()\n",
        "\n",
        "plt.plot(th_list, error_list, label='Test error', linewidth=2, color='r')\n",
        "plt.plot(th_list, lppd_list, label='LPPD', linewidth=2, color = 'b')\n",
        "\n",
        "# Adding labels and legend\n",
        "plt.xlabel('Threshold')\n",
        "#plt.ylabel('Density')\n",
        "#plt.title('Histogram and Density Estimation')\n",
        "plt.legend()\n",
        "\n",
        "# Show the plots\n",
        "plt.tight_layout()\n",
        "plt.show()\n"
      ]
    },
    {
      "cell_type": "code",
      "execution_count": 142,
      "metadata": {},
      "outputs": [],
      "source": [
        "# Set to zero for compression\n",
        "th_list = np.linspace(0, 30, 700)\n",
        "mean_w = np.mean(w_pgd, axis=2)\n",
        "mean_v = np.mean(v_pgd, axis=2)\n",
        "lppd_list = []\n",
        "error_list = []\n",
        "for threshold in th_list:  \n",
        "\n",
        "    lppd_shrink_2 = log_pointwise_predrictive_density(np.where(np.abs(w_pgd)>threshold, w_pgd, 0), \n",
        "                                                  np.where(np.abs(v_pgd)>threshold, v_pgd, 0), itest, ltest)\n",
        "\n",
        "    error_shrink_2 = test_error(np.where(np.abs(w_pgd)>threshold, w_pgd, 0), \n",
        "                            np.where(np.abs(v_pgd)>threshold, v_pgd, 0), itest, ltest)\n",
        "\n",
        "    lppd_list.append(lppd_shrink_2)\n",
        "\n",
        "    error_list.append(error_shrink_2)"
      ]
    },
    {
      "cell_type": "code",
      "execution_count": 153,
      "metadata": {},
      "outputs": [
        {
          "data": {
            "image/png": "[encoded data removed]",
            "text/plain": [
              "<Figure size 640x480 with 1 Axes>"
            ]
          },
          "metadata": {},
          "output_type": "display_data"
        }
      ],
      "source": [
        "fig = plt.figure()\n",
        "\n",
        "plt.plot(th_list, error_list, label='Test error', linewidth=2, color='r')\n",
        "plt.plot(th_list, lppd_list, label='LPPD', linewidth=2, color = 'b')\n",
        "\n",
        "# Adding labels and legend\n",
        "plt.xlabel('Threshold')\n",
        "#plt.ylabel('Density')\n",
        "#plt.title('Histogram and Density Estimation')\n",
        "plt.legend()\n",
        "\n",
        "# Show the plots\n",
        "plt.tight_layout()\n",
        "plt.show()"
      ]
    }
  ],
  "metadata": {
    "accelerator": "GPU",
    "colab": {
      "collapsed_sections": [
        "PAMr6QD-ttmT",
        "KaMMf_Yu2TmH",
        "yJr5lfAX2U5U",
        "T62bmxVZ2V6q"
      ],
      "include_colab_link": true,
      "name": "Bayesian Neural Network.ipynb",
      "provenance": []
    },
    "kernelspec": {
      "display_name": "Python 3 (ipykernel)",
      "language": "python",
      "name": "python3"
    },
    "language_info": {
      "codemirror_mode": {
        "name": "ipython",
        "version": 3
      },
      "file_extension": ".py",
      "mimetype": "text/x-python",
      "name": "python",
      "nbconvert_exporter": "python",
      "pygments_lexer": "ipython3",
      "version": "3.10.12"
    }
  },
  "nbformat": 4,
  "nbformat_minor": 0
}
